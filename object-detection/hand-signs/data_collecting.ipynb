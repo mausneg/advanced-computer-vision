{
 "cells": [
  {
   "cell_type": "code",
   "execution_count": 2,
   "metadata": {},
   "outputs": [],
   "source": [
    "import cv2 as cv\n",
    "import uuid\n",
    "import os\n",
    "import time"
   ]
  },
  {
   "cell_type": "code",
   "execution_count": 3,
   "metadata": {},
   "outputs": [],
   "source": [
    "labels = [\"one\", \"two\", \"three\", \"four\", \"five\", \"thumbs_up\", \"thumbs_down\"]\n",
    "number_of_images = 10\n",
    "PATH = os.path.join(os.getcwd(), \"data\", \"raw\")"
   ]
  },
  {
   "cell_type": "code",
   "execution_count": 4,
   "metadata": {},
   "outputs": [],
   "source": [
    "for label in labels:\n",
    "    os.makedirs(os.path.join(PATH, label), exist_ok=True)"
   ]
  },
  {
   "cell_type": "code",
   "execution_count": 7,
   "metadata": {},
   "outputs": [
    {
     "name": "stdout",
     "output_type": "stream",
     "text": [
      "Collecting images for one...\n",
      "Saved /media/mausneg/ntfs_disk/Surya/Language Programming/Python/advanced-computer-vision/object-detection/hand-sign/data/one/e687bb56-e0ff-462c-8345-ac6af1047ae8.jpg\n",
      "Saved /media/mausneg/ntfs_disk/Surya/Language Programming/Python/advanced-computer-vision/object-detection/hand-sign/data/one/eb93e750-ab37-4c36-bafe-cd72b514528f.jpg\n",
      "Saved /media/mausneg/ntfs_disk/Surya/Language Programming/Python/advanced-computer-vision/object-detection/hand-sign/data/one/01fb201c-81c0-45f9-9cb6-553eb6fb392b.jpg\n",
      "Saved /media/mausneg/ntfs_disk/Surya/Language Programming/Python/advanced-computer-vision/object-detection/hand-sign/data/one/82610289-0113-49fc-9d17-62e65bb536a9.jpg\n",
      "Saved /media/mausneg/ntfs_disk/Surya/Language Programming/Python/advanced-computer-vision/object-detection/hand-sign/data/one/46f56988-8fa9-4b00-a77f-d271616cb701.jpg\n",
      "Saved /media/mausneg/ntfs_disk/Surya/Language Programming/Python/advanced-computer-vision/object-detection/hand-sign/data/one/8626ac9f-9c83-42b9-aa0b-eea3e84de47d.jpg\n",
      "Saved /media/mausneg/ntfs_disk/Surya/Language Programming/Python/advanced-computer-vision/object-detection/hand-sign/data/one/0e4e4427-a3a4-40ac-a195-5231d221df8f.jpg\n",
      "Saved /media/mausneg/ntfs_disk/Surya/Language Programming/Python/advanced-computer-vision/object-detection/hand-sign/data/one/5973e965-c9a1-4c8e-9ec3-6c6ea9d09b67.jpg\n",
      "Saved /media/mausneg/ntfs_disk/Surya/Language Programming/Python/advanced-computer-vision/object-detection/hand-sign/data/one/5b225dcd-c98e-468d-a67d-630e69747738.jpg\n",
      "Saved /media/mausneg/ntfs_disk/Surya/Language Programming/Python/advanced-computer-vision/object-detection/hand-sign/data/one/88de52c7-fce0-46b5-be31-693d5d5d72b9.jpg\n",
      "Collecting images for two...\n",
      "Saved /media/mausneg/ntfs_disk/Surya/Language Programming/Python/advanced-computer-vision/object-detection/hand-sign/data/two/f2ec44e5-9b8f-4236-8a2b-c85d43fb94ed.jpg\n",
      "Saved /media/mausneg/ntfs_disk/Surya/Language Programming/Python/advanced-computer-vision/object-detection/hand-sign/data/two/b93dcaf5-21be-472e-845b-16b90755f20a.jpg\n",
      "Saved /media/mausneg/ntfs_disk/Surya/Language Programming/Python/advanced-computer-vision/object-detection/hand-sign/data/two/e964bd41-592c-4147-980e-0fceb2e40461.jpg\n",
      "Saved /media/mausneg/ntfs_disk/Surya/Language Programming/Python/advanced-computer-vision/object-detection/hand-sign/data/two/0b06e654-11b2-4b68-8fa3-bd442e15b7b1.jpg\n",
      "Saved /media/mausneg/ntfs_disk/Surya/Language Programming/Python/advanced-computer-vision/object-detection/hand-sign/data/two/1552b785-7412-44e5-80d0-b8ce3e8ea2d2.jpg\n",
      "Saved /media/mausneg/ntfs_disk/Surya/Language Programming/Python/advanced-computer-vision/object-detection/hand-sign/data/two/066f0fbb-0d32-4ed0-be4a-b2945643966f.jpg\n",
      "Saved /media/mausneg/ntfs_disk/Surya/Language Programming/Python/advanced-computer-vision/object-detection/hand-sign/data/two/630cb7c1-60c4-4ad8-b941-f0d1146c00c0.jpg\n",
      "Saved /media/mausneg/ntfs_disk/Surya/Language Programming/Python/advanced-computer-vision/object-detection/hand-sign/data/two/6bd12586-20f2-4dc6-9d8c-c257b3aacd14.jpg\n",
      "Saved /media/mausneg/ntfs_disk/Surya/Language Programming/Python/advanced-computer-vision/object-detection/hand-sign/data/two/44c8a9c4-3d66-4b23-b546-e8ebfd2f3b1c.jpg\n",
      "Saved /media/mausneg/ntfs_disk/Surya/Language Programming/Python/advanced-computer-vision/object-detection/hand-sign/data/two/734c1a58-01ea-46cf-8f7c-163ec7e01378.jpg\n",
      "Collecting images for three...\n",
      "Saved /media/mausneg/ntfs_disk/Surya/Language Programming/Python/advanced-computer-vision/object-detection/hand-sign/data/three/b2d7b911-2320-4f24-934c-dbd58a066987.jpg\n",
      "Saved /media/mausneg/ntfs_disk/Surya/Language Programming/Python/advanced-computer-vision/object-detection/hand-sign/data/three/5144a1cd-e4b7-4028-b314-a4c97be48044.jpg\n",
      "Saved /media/mausneg/ntfs_disk/Surya/Language Programming/Python/advanced-computer-vision/object-detection/hand-sign/data/three/0657b53a-157f-4536-bbaf-e0c59f9af94a.jpg\n",
      "Saved /media/mausneg/ntfs_disk/Surya/Language Programming/Python/advanced-computer-vision/object-detection/hand-sign/data/three/5f8c8ef8-da97-4f56-a411-263f69259831.jpg\n",
      "Saved /media/mausneg/ntfs_disk/Surya/Language Programming/Python/advanced-computer-vision/object-detection/hand-sign/data/three/b11336a0-04bf-4de7-9497-ed5bf3a0a1be.jpg\n",
      "Saved /media/mausneg/ntfs_disk/Surya/Language Programming/Python/advanced-computer-vision/object-detection/hand-sign/data/three/3eb72a19-de55-471e-81d8-f5220f1dd064.jpg\n",
      "Saved /media/mausneg/ntfs_disk/Surya/Language Programming/Python/advanced-computer-vision/object-detection/hand-sign/data/three/20b29641-d2a0-4d60-9719-2e424ae495aa.jpg\n",
      "Saved /media/mausneg/ntfs_disk/Surya/Language Programming/Python/advanced-computer-vision/object-detection/hand-sign/data/three/790d322f-6e00-43a4-b218-a9cba54ab838.jpg\n",
      "Saved /media/mausneg/ntfs_disk/Surya/Language Programming/Python/advanced-computer-vision/object-detection/hand-sign/data/three/cc11e391-59c9-4d04-8491-29cf48f66c0a.jpg\n",
      "Saved /media/mausneg/ntfs_disk/Surya/Language Programming/Python/advanced-computer-vision/object-detection/hand-sign/data/three/6e3971bc-3852-40de-95f8-b475528c9b87.jpg\n",
      "Collecting images for four...\n",
      "Saved /media/mausneg/ntfs_disk/Surya/Language Programming/Python/advanced-computer-vision/object-detection/hand-sign/data/four/52fc789d-b81b-4d79-9878-324972e7a756.jpg\n",
      "Saved /media/mausneg/ntfs_disk/Surya/Language Programming/Python/advanced-computer-vision/object-detection/hand-sign/data/four/39e5ca8f-f6ac-40a5-9025-f684b20ee097.jpg\n",
      "Saved /media/mausneg/ntfs_disk/Surya/Language Programming/Python/advanced-computer-vision/object-detection/hand-sign/data/four/95dc88a7-8b81-4660-823f-a156d842213f.jpg\n",
      "Saved /media/mausneg/ntfs_disk/Surya/Language Programming/Python/advanced-computer-vision/object-detection/hand-sign/data/four/f563bf01-3055-4a92-9f7e-2397e97b6a7c.jpg\n",
      "Saved /media/mausneg/ntfs_disk/Surya/Language Programming/Python/advanced-computer-vision/object-detection/hand-sign/data/four/afa93ed5-5e46-4f2c-8a23-f586a46f344e.jpg\n",
      "Saved /media/mausneg/ntfs_disk/Surya/Language Programming/Python/advanced-computer-vision/object-detection/hand-sign/data/four/0bd832f6-7642-4a94-b1a0-8d4df511560c.jpg\n",
      "Saved /media/mausneg/ntfs_disk/Surya/Language Programming/Python/advanced-computer-vision/object-detection/hand-sign/data/four/9ac64b42-4c45-4d9a-8b2d-7e1ee62dc0f4.jpg\n",
      "Saved /media/mausneg/ntfs_disk/Surya/Language Programming/Python/advanced-computer-vision/object-detection/hand-sign/data/four/ec4b98b8-5381-4f4c-b5c2-adfc95550001.jpg\n",
      "Saved /media/mausneg/ntfs_disk/Surya/Language Programming/Python/advanced-computer-vision/object-detection/hand-sign/data/four/359f5332-3f38-4fd5-a387-f9150b66b4b3.jpg\n",
      "Saved /media/mausneg/ntfs_disk/Surya/Language Programming/Python/advanced-computer-vision/object-detection/hand-sign/data/four/0dd943a7-6315-4ffc-a185-c2389754e71f.jpg\n",
      "Collecting images for five...\n",
      "Saved /media/mausneg/ntfs_disk/Surya/Language Programming/Python/advanced-computer-vision/object-detection/hand-sign/data/five/e817e41a-11c4-4839-8ee4-07b85fcf2784.jpg\n",
      "Saved /media/mausneg/ntfs_disk/Surya/Language Programming/Python/advanced-computer-vision/object-detection/hand-sign/data/five/7aa09a50-26ed-446c-ae5e-46454bfce6eb.jpg\n",
      "Saved /media/mausneg/ntfs_disk/Surya/Language Programming/Python/advanced-computer-vision/object-detection/hand-sign/data/five/4c1f7783-a736-4cb3-babf-2f59d9aba03e.jpg\n",
      "Saved /media/mausneg/ntfs_disk/Surya/Language Programming/Python/advanced-computer-vision/object-detection/hand-sign/data/five/15c63af7-72bd-4aac-8a85-99500a08e397.jpg\n",
      "Saved /media/mausneg/ntfs_disk/Surya/Language Programming/Python/advanced-computer-vision/object-detection/hand-sign/data/five/7b819378-e62b-4290-aa69-909d13e959d5.jpg\n",
      "Saved /media/mausneg/ntfs_disk/Surya/Language Programming/Python/advanced-computer-vision/object-detection/hand-sign/data/five/4a6e60b4-7916-4fad-954c-ca36160a1d1a.jpg\n",
      "Saved /media/mausneg/ntfs_disk/Surya/Language Programming/Python/advanced-computer-vision/object-detection/hand-sign/data/five/c4983329-16bf-489d-8c2a-d1346f4b520b.jpg\n",
      "Saved /media/mausneg/ntfs_disk/Surya/Language Programming/Python/advanced-computer-vision/object-detection/hand-sign/data/five/77e15520-92e2-49a8-9dad-21cf39809500.jpg\n",
      "Saved /media/mausneg/ntfs_disk/Surya/Language Programming/Python/advanced-computer-vision/object-detection/hand-sign/data/five/a5f63dae-e17a-4a07-98eb-88fbf58d25af.jpg\n",
      "Saved /media/mausneg/ntfs_disk/Surya/Language Programming/Python/advanced-computer-vision/object-detection/hand-sign/data/five/7c830913-92ab-4bda-ac69-07000da5f632.jpg\n",
      "Collecting images for thumbs_up...\n",
      "Saved /media/mausneg/ntfs_disk/Surya/Language Programming/Python/advanced-computer-vision/object-detection/hand-sign/data/thumbs_up/622fa2a3-d8e0-4739-979b-4dd9e8059b87.jpg\n",
      "Saved /media/mausneg/ntfs_disk/Surya/Language Programming/Python/advanced-computer-vision/object-detection/hand-sign/data/thumbs_up/a747e9de-c451-40d4-8dea-9bfdf18760db.jpg\n",
      "Saved /media/mausneg/ntfs_disk/Surya/Language Programming/Python/advanced-computer-vision/object-detection/hand-sign/data/thumbs_up/6fb9c1e9-238a-489c-a141-891f1959c045.jpg\n",
      "Saved /media/mausneg/ntfs_disk/Surya/Language Programming/Python/advanced-computer-vision/object-detection/hand-sign/data/thumbs_up/0b75a981-b4bd-4740-95ad-de5e8d80128e.jpg\n",
      "Saved /media/mausneg/ntfs_disk/Surya/Language Programming/Python/advanced-computer-vision/object-detection/hand-sign/data/thumbs_up/02515141-f18f-451a-9791-37ea2d4154aa.jpg\n",
      "Saved /media/mausneg/ntfs_disk/Surya/Language Programming/Python/advanced-computer-vision/object-detection/hand-sign/data/thumbs_up/229217e9-2ba4-4795-b5c6-ba416618707d.jpg\n",
      "Saved /media/mausneg/ntfs_disk/Surya/Language Programming/Python/advanced-computer-vision/object-detection/hand-sign/data/thumbs_up/af2349db-034e-4f35-a3ee-1312a287ba49.jpg\n",
      "Saved /media/mausneg/ntfs_disk/Surya/Language Programming/Python/advanced-computer-vision/object-detection/hand-sign/data/thumbs_up/4aaf6e15-6f92-42c9-bc1b-adb9a0bbc4fe.jpg\n",
      "Saved /media/mausneg/ntfs_disk/Surya/Language Programming/Python/advanced-computer-vision/object-detection/hand-sign/data/thumbs_up/0c834e82-7113-4cb7-b2ff-8c4b33ef2ca3.jpg\n",
      "Saved /media/mausneg/ntfs_disk/Surya/Language Programming/Python/advanced-computer-vision/object-detection/hand-sign/data/thumbs_up/68dfc6aa-bbb5-468f-8c9b-f976fa949d7a.jpg\n",
      "Collecting images for thumbs_down...\n",
      "Saved /media/mausneg/ntfs_disk/Surya/Language Programming/Python/advanced-computer-vision/object-detection/hand-sign/data/thumbs_down/3b8732f3-bd8c-4a39-823e-58ac2eea4d02.jpg\n",
      "Saved /media/mausneg/ntfs_disk/Surya/Language Programming/Python/advanced-computer-vision/object-detection/hand-sign/data/thumbs_down/7ba19283-6289-462d-aaa0-e4a642584614.jpg\n",
      "Saved /media/mausneg/ntfs_disk/Surya/Language Programming/Python/advanced-computer-vision/object-detection/hand-sign/data/thumbs_down/eb0b91f6-624d-4d49-a38b-73254afd1d35.jpg\n",
      "Saved /media/mausneg/ntfs_disk/Surya/Language Programming/Python/advanced-computer-vision/object-detection/hand-sign/data/thumbs_down/6ac35e5a-5a17-45f2-a4ec-90ec03be9466.jpg\n",
      "Saved /media/mausneg/ntfs_disk/Surya/Language Programming/Python/advanced-computer-vision/object-detection/hand-sign/data/thumbs_down/dca628cb-14dc-4b14-b8cb-ed1b0930435a.jpg\n",
      "Saved /media/mausneg/ntfs_disk/Surya/Language Programming/Python/advanced-computer-vision/object-detection/hand-sign/data/thumbs_down/6ff2d8e6-d37e-466c-b8d0-4eb056cba86b.jpg\n",
      "Saved /media/mausneg/ntfs_disk/Surya/Language Programming/Python/advanced-computer-vision/object-detection/hand-sign/data/thumbs_down/c0db6d4c-a985-49eb-9b29-885b886519e1.jpg\n",
      "Saved /media/mausneg/ntfs_disk/Surya/Language Programming/Python/advanced-computer-vision/object-detection/hand-sign/data/thumbs_down/49ec369d-2003-471c-ba97-53cd2c8a849f.jpg\n",
      "Saved /media/mausneg/ntfs_disk/Surya/Language Programming/Python/advanced-computer-vision/object-detection/hand-sign/data/thumbs_down/17bfdb9f-ff0f-4e5f-95f5-465dc984b205.jpg\n",
      "Saved /media/mausneg/ntfs_disk/Surya/Language Programming/Python/advanced-computer-vision/object-detection/hand-sign/data/thumbs_down/e0d314eb-32fe-4ede-9202-0903ae64a72c.jpg\n"
     ]
    }
   ],
   "source": [
    "for label in labels:\n",
    "    print(f\"Collecting images for {label}...\")\n",
    "    cap = cv.VideoCapture(0)\n",
    "    time.sleep(5)\n",
    "    for i in range(number_of_images):\n",
    "        ret, frame = cap.read()\n",
    "        if not ret:\n",
    "            print(\"Failed to grab frame\")\n",
    "            break\n",
    "        image_path = os.path.join(PATH, label, f\"{uuid.uuid4()}.jpg\")\n",
    "        cv.imwrite(image_path, frame)\n",
    "        cv.imshow(\"frame\", frame)\n",
    "        print(f\"Saved {image_path}\")\n",
    "        time.sleep(2)\n",
    "        if cv.waitKey(1) & 0xFF == ord('q'):\n",
    "            break\n",
    "    cap.release()\n",
    "cv.destroyAllWindows()"
   ]
  }
 ],
 "metadata": {
  "kernelspec": {
   "display_name": ".venv",
   "language": "python",
   "name": "python3"
  },
  "language_info": {
   "codemirror_mode": {
    "name": "ipython",
    "version": 3
   },
   "file_extension": ".py",
   "mimetype": "text/x-python",
   "name": "python",
   "nbconvert_exporter": "python",
   "pygments_lexer": "ipython3",
   "version": "3.11.9"
  }
 },
 "nbformat": 4,
 "nbformat_minor": 2
}
